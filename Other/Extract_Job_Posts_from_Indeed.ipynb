{
 "cells": [
  {
   "cell_type": "markdown",
   "metadata": {},
   "source": [
    "# Extract Job Posts from Indeed"
   ]
  },
  {
   "cell_type": "markdown",
   "metadata": {},
   "source": [
    "Before extracting job posts from [Indeed](https://www.indeed.com/), make sure you have checked their [robots.txt](https://www.indeed.com/robots.txt) file. "
   ]
  },
  {
   "cell_type": "markdown",
   "metadata": {},
   "source": [
    "## Create a table in database"
   ]
  },
  {
   "cell_type": "code",
   "execution_count": 2,
   "metadata": {},
   "outputs": [],
   "source": [
    "import pandas\n",
    "import configparser\n",
    "import psycopg2"
   ]
  },
  {
   "cell_type": "markdown",
   "metadata": {},
   "source": [
    "Read the database connection info from the config.ini"
   ]
  },
  {
   "cell_type": "code",
   "execution_count": 3,
   "metadata": {},
   "outputs": [],
   "source": [
    "config = configparser.ConfigParser()\n",
    "config.read('config.ini')\n",
    "\n",
    "host = config['myaws']['host']\n",
    "db = config['myaws']['db']\n",
    "user = config['myaws']['user']\n",
    "pwd = config['myaws']['pwd']"
   ]
  },
  {
   "cell_type": "markdown",
   "metadata": {},
   "source": [
    "Establish a connection to the databas, and create a cursor."
   ]
  },
  {
   "cell_type": "code",
   "execution_count": 4,
   "metadata": {},
   "outputs": [],
   "source": [
    "conn = psycopg2.connect(host = host,\n",
    "                       user = user,\n",
    "                        password = pwd,\n",
    "                        dbname = db\n",
    "                       )\n",
    "cur = conn.cursor()"
   ]
  },
  {
   "cell_type": "markdown",
   "metadata": {},
   "source": [
    "Design the table in SQL"
   ]
  },
  {
   "cell_type": "code",
   "execution_count": 5,
   "metadata": {},
   "outputs": [],
   "source": [
    "# replace the schema and table name to your schema and table name\n",
    "table_sql = \"\"\"\n",
    "            CREATE TABLE IF NOT EXISTS demo.indeed\n",
    "            (\n",
    "                id SERIAL,\n",
    "                job_title VARCHAR(200),\n",
    "                job_company VARCHAR(200),\n",
    "                job_loc VARCHAR(200),\n",
    "                job_salary VARCHAR(200),\n",
    "                job_summary TEXT,\n",
    "                PRIMARY KEY(id)\n",
    "            );\n",
    "\n",
    "            \"\"\""
   ]
  },
  {
   "cell_type": "markdown",
   "metadata": {},
   "source": [
    "create the table"
   ]
  },
  {
   "cell_type": "code",
   "execution_count": 6,
   "metadata": {},
   "outputs": [],
   "source": [
    "cur.execute(table_sql)\n",
    "conn.commit()"
   ]
  },
  {
   "cell_type": "markdown",
   "metadata": {},
   "source": [
    "## Request HTML\n",
    "\n",
    "[urllib.request](https://docs.python.org/3/library/urllib.request.html) makes simple HTTP requests to visit a web page and get the content via the Python standard library.\n",
    "Here we define the URL to search job pots about Intelligence analyst."
   ]
  },
  {
   "cell_type": "code",
   "execution_count": 7,
   "metadata": {},
   "outputs": [],
   "source": [
    "url = 'https://www.indeed.com/jobs?q=intelligence+analyst&start=0'"
   ]
  },
  {
   "cell_type": "code",
   "execution_count": 8,
   "metadata": {
    "scrolled": true
   },
   "outputs": [],
   "source": [
    "import urllib.request\n",
    "response = urllib.request.urlopen(url)\n",
    "html_data= response.read()\n",
    "#print(html_data.decode('utf-8'))"
   ]
  },
  {
   "cell_type": "markdown",
   "metadata": {},
   "source": [
    "# Parese HTML\n",
    "We can use the inspector tool in browsers to analyze webpages and use [beautifulsoup](https://www.crummy.com/software/BeautifulSoup/bs4/doc/) to extract webpage data.\n",
    "pip install the beautiful soup if needed. "
   ]
  },
  {
   "cell_type": "code",
   "execution_count": null,
   "metadata": {},
   "outputs": [],
   "source": [
    "!pip install beautifulsoup4"
   ]
  },
  {
   "cell_type": "code",
   "execution_count": 9,
   "metadata": {},
   "outputs": [],
   "source": [
    "from bs4 import BeautifulSoup\n",
    "soup = BeautifulSoup(html_data,'html.parser')\n",
    "#print (soup)"
   ]
  },
  {
   "cell_type": "markdown",
   "metadata": {},
   "source": [
    "Use the <code> tag.find_all(‘tag_name’, tage_attr = ‘possible_value’)</code> function to return a list of tags where the attribute equals the possible_value.\n",
    "<ul>Common attributes include:\n",
    "<li> id</li>\n",
    "<li> class<span style =\"color:red\">_</span></li>\n",
    "</ul>\n",
    "\n",
    "<ul>Common functions include:\n",
    "<li> tag.text: return the visible part of the tag</li>\n",
    "<li> tag.get(‘attribute’): return the value of the attribute of the tag</li>\n",
    "</ul>"
   ]
  },
  {
   "cell_type": "markdown",
   "metadata": {},
   "source": [
    "Since all the job posts are in the <code>div tag class = 'jobsearch-Sprep...'</code>, we need to find that div tag from the body tag."
   ]
  },
  {
   "cell_type": "code",
   "execution_count": 10,
   "metadata": {
    "scrolled": false
   },
   "outputs": [],
   "source": [
    "for table_resultsBody in soup.find_all('table', id = 'resultsBody'):\n",
    "    pass\n",
    "    #print(table_resultsBody)"
   ]
  },
  {
   "cell_type": "code",
   "execution_count": 11,
   "metadata": {
    "scrolled": true
   },
   "outputs": [],
   "source": [
    "for table_pageContent in table_resultsBody.find_all('table', id = 'pageContent'):\n",
    "    pass\n",
    "    #print(table_pageContent)"
   ]
  },
  {
   "cell_type": "code",
   "execution_count": 12,
   "metadata": {},
   "outputs": [],
   "source": [
    "for td_resultsCol in table_pageContent.find_all('td', id = 'resultsCol'):\n",
    "    pass\n",
    "    #print(td_resultsCol)"
   ]
  },
  {
   "cell_type": "markdown",
   "metadata": {},
   "source": [
    "## Save Data to Database\n",
    "Now we find the div tag contains the job posts. We need to identify the job title, company, ratings, reviews, salary, and summary. \n",
    "We can save those records to our table in the database."
   ]
  },
  {
   "cell_type": "code",
   "execution_count": 13,
   "metadata": {},
   "outputs": [],
   "source": [
    "#  identify the job title, company, ratings, reviews, salary, and summary\n",
    "for div_row in td_resultsCol.find_all('div', class_='jobsearch-SerpJobCard unifiedRow row result'):\n",
    "\n",
    "    # find job title\n",
    "    job_title = None\n",
    "    job_company  = None\n",
    "    job_rating = None\n",
    "    job_loc = None\n",
    "    job_salary = None\n",
    "    job_summary = None\n",
    "    for h2_title in div_row.find_all('h2', class_ = 'title'):\n",
    "       \n",
    "        job_title = h2_title.a.text.strip().replace(\"'\",\"_\")\n",
    "   \n",
    "    for div_dsc in div_row.find_all('div', class_ = 'sjcl'):\n",
    "        \n",
    "        #find company name\n",
    "        for span_company in div_dsc.find_all('span', class_ = 'company'):\n",
    "            job_company = span_company.text.strip().replace(\"'\",\"_\")\n",
    "        \n",
    "        # find location\n",
    "        for div_loc in div_dsc.find_all('div', class_ = 'location accessible-contrast-color-location'):\n",
    "            job_loc = div_loc.text.strip().replace(\"'\",\"_\")\n",
    "    \n",
    "    # find salary\n",
    "    for div_salary in div_row.find_all('div',class_ ='salarySnippet'):\n",
    "        job_salary = div_salary.text.strip().replace(\"'\",\"_\")\n",
    "    \n",
    "    #find summary\n",
    "    for div_summary in div_row.find_all('div', class_ = 'summary'):\n",
    "        job_summary = div_summary.text.strip().replace(\"'\",\"_\")\n",
    "        \n",
    "    # insert into database\n",
    "    \n",
    "    sql_insert = \"\"\"\n",
    "                insert into demo.indeed(job_title,job_company,job_loc,job_salary,job_summary)\n",
    "                values('{}','{}','{}','{}','{}')            \n",
    "                \"\"\".format(job_title,job_company,job_loc,job_salary,job_summary)\n",
    "\n",
    "    cur.execute(sql_insert)\n",
    "    conn.commit()"
   ]
  },
  {
   "cell_type": "markdown",
   "metadata": {},
   "source": [
    "## View the Table"
   ]
  },
  {
   "cell_type": "code",
   "execution_count": 14,
   "metadata": {},
   "outputs": [
    {
     "data": {
      "text/html": [
       "<div>\n",
       "<style scoped>\n",
       "    .dataframe tbody tr th:only-of-type {\n",
       "        vertical-align: middle;\n",
       "    }\n",
       "\n",
       "    .dataframe tbody tr th {\n",
       "        vertical-align: top;\n",
       "    }\n",
       "\n",
       "    .dataframe thead th {\n",
       "        text-align: right;\n",
       "    }\n",
       "</style>\n",
       "<table border=\"1\" class=\"dataframe\">\n",
       "  <thead>\n",
       "    <tr style=\"text-align: right;\">\n",
       "      <th></th>\n",
       "      <th>id</th>\n",
       "      <th>job_title</th>\n",
       "      <th>job_company</th>\n",
       "      <th>job_loc</th>\n",
       "      <th>job_salary</th>\n",
       "      <th>job_summary</th>\n",
       "    </tr>\n",
       "  </thead>\n",
       "  <tbody>\n",
       "    <tr>\n",
       "      <th>0</th>\n",
       "      <td>151</td>\n",
       "      <td>Intelligence Analyst</td>\n",
       "      <td>Northrop Grumman</td>\n",
       "      <td>McLean, VA 22102</td>\n",
       "      <td>None</td>\n",
       "      <td>Successful candidates in this position will co...</td>\n",
       "    </tr>\n",
       "    <tr>\n",
       "      <th>1</th>\n",
       "      <td>152</td>\n",
       "      <td>Intelligence Analyst</td>\n",
       "      <td>Array Information Technology, Inc.</td>\n",
       "      <td>Chantilly, VA</td>\n",
       "      <td>None</td>\n",
       "      <td>.Demonstrated ability to create and provide in...</td>\n",
       "    </tr>\n",
       "    <tr>\n",
       "      <th>2</th>\n",
       "      <td>153</td>\n",
       "      <td>Intelligence Analyst</td>\n",
       "      <td>5 Stones intelligence</td>\n",
       "      <td>None</td>\n",
       "      <td>None</td>\n",
       "      <td>Analyze threat information from multiple sourc...</td>\n",
       "    </tr>\n",
       "    <tr>\n",
       "      <th>3</th>\n",
       "      <td>154</td>\n",
       "      <td>Human Svcs Investigator - Intelligence Analyst</td>\n",
       "      <td>State of Minnesota</td>\n",
       "      <td>None</td>\n",
       "      <td>$25.71 - $37.82 an hour</td>\n",
       "      <td>Copies of the college degree/diploma are accep...</td>\n",
       "    </tr>\n",
       "    <tr>\n",
       "      <th>4</th>\n",
       "      <td>155</td>\n",
       "      <td>Virtual Intelligence Analyst</td>\n",
       "      <td>G4S</td>\n",
       "      <td>None</td>\n",
       "      <td>None</td>\n",
       "      <td>Experience learning and quickly becoming profi...</td>\n",
       "    </tr>\n",
       "    <tr>\n",
       "      <th>5</th>\n",
       "      <td>156</td>\n",
       "      <td>Global Intelligence Analyst</td>\n",
       "      <td>AlertMedia</td>\n",
       "      <td>None</td>\n",
       "      <td>None</td>\n",
       "      <td>You have previous job experience in the news m...</td>\n",
       "    </tr>\n",
       "    <tr>\n",
       "      <th>6</th>\n",
       "      <td>157</td>\n",
       "      <td>Threat Intelligence Analyst</td>\n",
       "      <td>Ford Motor Company</td>\n",
       "      <td>None</td>\n",
       "      <td>None</td>\n",
       "      <td>This will involve the use of a variety of tool...</td>\n",
       "    </tr>\n",
       "    <tr>\n",
       "      <th>7</th>\n",
       "      <td>158</td>\n",
       "      <td>Undergraduate Internship/Co-op Program - Intel...</td>\n",
       "      <td>Central Intelligence Agency</td>\n",
       "      <td>None</td>\n",
       "      <td>$21.21 - $22.43 an hour</td>\n",
       "      <td>Engineering, science students, or those in oth...</td>\n",
       "    </tr>\n",
       "    <tr>\n",
       "      <th>8</th>\n",
       "      <td>159</td>\n",
       "      <td>Intelligence Analyst</td>\n",
       "      <td>General Dynamics Information Technology</td>\n",
       "      <td>None</td>\n",
       "      <td>None</td>\n",
       "      <td>Bringing the expertise needed to understand an...</td>\n",
       "    </tr>\n",
       "    <tr>\n",
       "      <th>9</th>\n",
       "      <td>160</td>\n",
       "      <td>CRIMINAL INTELLIGENCE ANALYST</td>\n",
       "      <td>City of Houston, TX</td>\n",
       "      <td>None</td>\n",
       "      <td>$23.50 - $34.65 an hour</td>\n",
       "      <td>If you need login assistance or technical supp...</td>\n",
       "    </tr>\n",
       "    <tr>\n",
       "      <th>10</th>\n",
       "      <td>161</td>\n",
       "      <td>Intelligence Analyst (Remote)</td>\n",
       "      <td>CrowdStrike</td>\n",
       "      <td>None</td>\n",
       "      <td>None</td>\n",
       "      <td>Undergraduate degree, military training or rel...</td>\n",
       "    </tr>\n",
       "    <tr>\n",
       "      <th>11</th>\n",
       "      <td>162</td>\n",
       "      <td>INTELLIGENCE RESEARCH SPECIALIST</td>\n",
       "      <td>US Department of Homeland Security</td>\n",
       "      <td>None</td>\n",
       "      <td>$78,659 - $102,262 a year</td>\n",
       "      <td>Experience: You qualify for the GS-12 grade le...</td>\n",
       "    </tr>\n",
       "    <tr>\n",
       "      <th>12</th>\n",
       "      <td>163</td>\n",
       "      <td>Junior Intelligence Analyst</td>\n",
       "      <td>Valiant Integrated Services</td>\n",
       "      <td>None</td>\n",
       "      <td>None</td>\n",
       "      <td>Use analytic tools to create charts, maps, tim...</td>\n",
       "    </tr>\n",
       "    <tr>\n",
       "      <th>13</th>\n",
       "      <td>164</td>\n",
       "      <td>Graduate Studies Program - Intelligence Analyst</td>\n",
       "      <td>Central Intelligence Agency</td>\n",
       "      <td>None</td>\n",
       "      <td>$26.28 - $37.51 an hour</td>\n",
       "      <td>Engineering, science students, or those in oth...</td>\n",
       "    </tr>\n",
       "    <tr>\n",
       "      <th>14</th>\n",
       "      <td>165</td>\n",
       "      <td>Intelligence Analyst</td>\n",
       "      <td>Pinkerton</td>\n",
       "      <td>None</td>\n",
       "      <td>None</td>\n",
       "      <td>Plan and implement intelligence reporting proc...</td>\n",
       "    </tr>\n",
       "  </tbody>\n",
       "</table>\n",
       "</div>"
      ],
      "text/plain": [
       "     id                                          job_title  \\\n",
       "0   151                               Intelligence Analyst   \n",
       "1   152                               Intelligence Analyst   \n",
       "2   153                               Intelligence Analyst   \n",
       "3   154     Human Svcs Investigator - Intelligence Analyst   \n",
       "4   155                       Virtual Intelligence Analyst   \n",
       "5   156                        Global Intelligence Analyst   \n",
       "6   157                        Threat Intelligence Analyst   \n",
       "7   158  Undergraduate Internship/Co-op Program - Intel...   \n",
       "8   159                               Intelligence Analyst   \n",
       "9   160                      CRIMINAL INTELLIGENCE ANALYST   \n",
       "10  161                      Intelligence Analyst (Remote)   \n",
       "11  162                   INTELLIGENCE RESEARCH SPECIALIST   \n",
       "12  163                        Junior Intelligence Analyst   \n",
       "13  164    Graduate Studies Program - Intelligence Analyst   \n",
       "14  165                               Intelligence Analyst   \n",
       "\n",
       "                                job_company           job_loc  \\\n",
       "0                          Northrop Grumman  McLean, VA 22102   \n",
       "1        Array Information Technology, Inc.     Chantilly, VA   \n",
       "2                     5 Stones intelligence              None   \n",
       "3                        State of Minnesota              None   \n",
       "4                                       G4S              None   \n",
       "5                                AlertMedia              None   \n",
       "6                        Ford Motor Company              None   \n",
       "7               Central Intelligence Agency              None   \n",
       "8   General Dynamics Information Technology              None   \n",
       "9                       City of Houston, TX              None   \n",
       "10                              CrowdStrike              None   \n",
       "11       US Department of Homeland Security              None   \n",
       "12              Valiant Integrated Services              None   \n",
       "13              Central Intelligence Agency              None   \n",
       "14                                Pinkerton              None   \n",
       "\n",
       "                   job_salary  \\\n",
       "0                        None   \n",
       "1                        None   \n",
       "2                        None   \n",
       "3     $25.71 - $37.82 an hour   \n",
       "4                        None   \n",
       "5                        None   \n",
       "6                        None   \n",
       "7     $21.21 - $22.43 an hour   \n",
       "8                        None   \n",
       "9     $23.50 - $34.65 an hour   \n",
       "10                       None   \n",
       "11  $78,659 - $102,262 a year   \n",
       "12                       None   \n",
       "13    $26.28 - $37.51 an hour   \n",
       "14                       None   \n",
       "\n",
       "                                          job_summary  \n",
       "0   Successful candidates in this position will co...  \n",
       "1   .Demonstrated ability to create and provide in...  \n",
       "2   Analyze threat information from multiple sourc...  \n",
       "3   Copies of the college degree/diploma are accep...  \n",
       "4   Experience learning and quickly becoming profi...  \n",
       "5   You have previous job experience in the news m...  \n",
       "6   This will involve the use of a variety of tool...  \n",
       "7   Engineering, science students, or those in oth...  \n",
       "8   Bringing the expertise needed to understand an...  \n",
       "9   If you need login assistance or technical supp...  \n",
       "10  Undergraduate degree, military training or rel...  \n",
       "11  Experience: You qualify for the GS-12 grade le...  \n",
       "12  Use analytic tools to create charts, maps, tim...  \n",
       "13  Engineering, science students, or those in oth...  \n",
       "14  Plan and implement intelligence reporting proc...  "
      ]
     },
     "execution_count": 14,
     "metadata": {},
     "output_type": "execute_result"
    }
   ],
   "source": [
    "df = pandas.read_sql_query('select * from demo.indeed', conn)\n",
    "df[:]"
   ]
  },
  {
   "cell_type": "code",
   "execution_count": 15,
   "metadata": {},
   "outputs": [],
   "source": [
    "cur.close()\n",
    "conn.close()"
   ]
  },
  {
   "cell_type": "code",
   "execution_count": null,
   "metadata": {},
   "outputs": [],
   "source": []
  }
 ],
 "metadata": {
  "kernelspec": {
   "display_name": "conda_python3",
   "language": "python",
   "name": "conda_python3"
  },
  "language_info": {
   "codemirror_mode": {
    "name": "ipython",
    "version": 3
   },
   "file_extension": ".py",
   "mimetype": "text/x-python",
   "name": "python",
   "nbconvert_exporter": "python",
   "pygments_lexer": "ipython3",
   "version": "3.6.10"
  }
 },
 "nbformat": 4,
 "nbformat_minor": 2
}
