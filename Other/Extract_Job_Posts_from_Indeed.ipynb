{
 "cells": [
  {
   "cell_type": "markdown",
   "metadata": {},
   "source": [
    "# Extract Job Posts from Indeed"
   ]
  },
  {
   "cell_type": "markdown",
   "metadata": {},
   "source": [
    "Before extracting job posts from [Indeed](https://www.indeed.com/), make sure you have checked their [robots.txt](https://www.indeed.com/robots.txt) file. "
   ]
  },
  {
   "cell_type": "markdown",
   "metadata": {},
   "source": [
    "## Create a table in database"
   ]
  },
  {
   "cell_type": "code",
   "execution_count": 1,
   "metadata": {},
   "outputs": [],
   "source": [
    "import pandas\n",
    "import configparser\n",
    "import psycopg2"
   ]
  },
  {
   "cell_type": "markdown",
   "metadata": {},
   "source": [
    "Read the database connection info from the config.ini"
   ]
  },
  {
   "cell_type": "code",
   "execution_count": 2,
   "metadata": {},
   "outputs": [],
   "source": [
    "config = configparser.ConfigParser()\n",
    "config.read('config.ini')\n",
    "\n",
    "host = config['myaws']['host']\n",
    "db = config['myaws']['db']\n",
    "user = config['myaws']['user']\n",
    "pwd = config['myaws']['pwd']"
   ]
  },
  {
   "cell_type": "markdown",
   "metadata": {},
   "source": [
    "Establish a connection to the databas, and create a cursor."
   ]
  },
  {
   "cell_type": "code",
   "execution_count": 3,
   "metadata": {},
   "outputs": [],
   "source": [
    "conn = psycopg2.connect(host = host,\n",
    "                       user = user,\n",
    "                        password = pwd,\n",
    "                        dbname = db\n",
    "                       )\n",
    "cur = conn.cursor()"
   ]
  },
  {
   "cell_type": "markdown",
   "metadata": {},
   "source": [
    "Design the table in SQL"
   ]
  },
  {
   "cell_type": "code",
   "execution_count": 4,
   "metadata": {},
   "outputs": [],
   "source": [
    "table_sql = \"\"\"\n",
    "            CREATE TABLE IF NOT EXISTS indeed_gp21\n",
    "            (\n",
    "                id SERIAL,\n",
    "                job_title VARCHAR(200),\n",
    "                job_company VARCHAR(200),\n",
    "                job_loc VARCHAR(200),\n",
    "                job_salary VARCHAR(200),\n",
    "                job_summary TEXT,\n",
    "                PRIMARY KEY(id)\n",
    "            );\n",
    "\n",
    "            \"\"\""
   ]
  },
  {
   "cell_type": "markdown",
   "metadata": {},
   "source": [
    "create the table"
   ]
  },
  {
   "cell_type": "code",
   "execution_count": 5,
   "metadata": {},
   "outputs": [],
   "source": [
    "cur.execute(table_sql)\n",
    "conn.commit()"
   ]
  },
  {
   "attachments": {},
   "cell_type": "markdown",
   "metadata": {},
   "source": [
    "## Request HTML\n",
    "\n",
    "[urllib.request](https://docs.python.org/3/library/urllib.request.html) makes simple HTTP requests to visit a web page and get the content via the Python standard library.\n",
    "Here we define the URL to search job pots about Intelligence analyst."
   ]
  },
  {
   "cell_type": "code",
   "execution_count": 6,
   "metadata": {},
   "outputs": [],
   "source": [
    "url = 'https://www.indeed.com/jobs?q=intelligence+analyst&start=0'"
   ]
  },
  {
   "cell_type": "code",
   "execution_count": 7,
   "metadata": {
    "scrolled": true
   },
   "outputs": [],
   "source": [
    "import urllib.request\n",
    "response = urllib.request.urlopen(url)\n",
    "html_data= response.read()\n",
    "#print(html_data.decode('utf-8'))"
   ]
  },
  {
   "attachments": {},
   "cell_type": "markdown",
   "metadata": {},
   "source": [
    "# Parese HTML\n",
    "We can use the inspector tool in browsers to analyze webpages and use [beautifulsoup](https://www.crummy.com/software/BeautifulSoup/bs4/doc/) to extract webpage data.\n",
    "pip install the beautiful soup if needed. "
   ]
  },
  {
   "cell_type": "code",
   "execution_count": null,
   "metadata": {},
   "outputs": [],
   "source": [
    "!pip install beautifulsoup4"
   ]
  },
  {
   "cell_type": "code",
   "execution_count": 8,
   "metadata": {},
   "outputs": [],
   "source": [
    "from bs4 import BeautifulSoup\n",
    "soup = BeautifulSoup(html_data,'html.parser')\n",
    "#print (soup)"
   ]
  },
  {
   "attachments": {},
   "cell_type": "markdown",
   "metadata": {},
   "source": [
    "Use the <code> tag.find_all(‘tag_name’, tage_attr = ‘possible_value’)</code> function to return a list of tags where the attribute equals the possible_value.\n",
    "<ul>Common attributes include:\n",
    "<li> id</li>\n",
    "<li> class<span style =\"color:red\">_</span></li>\n",
    "</ul>\n",
    "\n",
    "<ul>Common functions include:\n",
    "<li> tag.text: return the visible part of the tag</li>\n",
    "<li> tag.get(‘attribute’): return the value of the attribute of the tag</li>\n",
    "</ul>"
   ]
  },
  {
   "cell_type": "markdown",
   "metadata": {},
   "source": [
    "Since all the job posts are in the <code>div tag class = 'jobsearch-Sprep...'</code>, we need to find that div tag from the body tag."
   ]
  },
  {
   "cell_type": "code",
   "execution_count": 9,
   "metadata": {
    "scrolled": false
   },
   "outputs": [],
   "source": [
    "for table_resultsBody in soup.find_all('table', id = 'resultsBody'):\n",
    "    pass\n",
    "    #print(table_resultsBody)"
   ]
  },
  {
   "cell_type": "code",
   "execution_count": 10,
   "metadata": {
    "scrolled": true
   },
   "outputs": [],
   "source": [
    "for table_pageContent in table_resultsBody.find_all('table', id = 'pageContent'):\n",
    "    pass\n",
    "    #print(table_pageContent)"
   ]
  },
  {
   "cell_type": "code",
   "execution_count": 11,
   "metadata": {},
   "outputs": [],
   "source": [
    "for td_resultsCol in table_pageContent.find_all('td', id = 'resultsCol'):\n",
    "    pass\n",
    "    #print(td_resultsCol)"
   ]
  },
  {
   "cell_type": "markdown",
   "metadata": {},
   "source": [
    "## Save Data to Database\n",
    "Now we find the div tag contains the job posts. We need to identify the job title, company, ratings, reviews, salary, and summary. \n",
    "We can save those records to our table in the database."
   ]
  },
  {
   "cell_type": "code",
   "execution_count": 12,
   "metadata": {},
   "outputs": [],
   "source": [
    "#  identify the job title, company, ratings, reviews, salary, and summary\n",
    "for div_row in td_resultsCol.find_all('div', class_='jobsearch-SerpJobCard unifiedRow row result'):\n",
    "\n",
    "    # find job title\n",
    "    job_title = None\n",
    "    job_company  = None\n",
    "    job_rating = None\n",
    "    job_loc = None\n",
    "    job_salary = None\n",
    "    job_summary = None\n",
    "    for div_title in div_row.find_all('div', class_ = 'title'):\n",
    "        job_title = div_title.text.strip().replace(\"'\",\"_\")\n",
    "    \n",
    "    for div_dsc in div_row.find_all('div', class_ = 'sjcl'):\n",
    "        \n",
    "        #find company name\n",
    "        for span_company in div_dsc.find_all('span', class_ = 'company'):\n",
    "            job_company = span_company.text.strip().replace(\"'\",\"_\")\n",
    "        \n",
    "        # find location\n",
    "        for div_loc in div_dsc.find_all('div', class_ = 'location accessible-contrast-color-location'):\n",
    "            job_loc = div_loc.text.strip().replace(\"'\",\"_\")\n",
    "    \n",
    "    # find salary\n",
    "    for div_salary in div_row.find_all('div',class_ ='salarySnippet'):\n",
    "        job_salary = div_salary.text.strip().replace(\"'\",\"_\")\n",
    "    \n",
    "    #find summary\n",
    "    for div_summary in div_row.find_all('div', class_ = 'summary'):\n",
    "        job_summary = div_summary.text.strip().replace(\"'\",\"_\")\n",
    "        \n",
    "    # insert into database\n",
    "    \n",
    "    sql_insert = \"\"\"\n",
    "                insert into indeed_gp21(job_title,job_company,job_loc,job_salary,job_summary)\n",
    "                values('{}','{}','{}','{}','{}')            \n",
    "                \"\"\".format(job_title,job_company,job_loc,job_salary,job_summary)\n",
    "\n",
    "    cur.execute(sql_insert)\n",
    "    conn.commit()"
   ]
  },
  {
   "cell_type": "markdown",
   "metadata": {},
   "source": [
    "## View the Table"
   ]
  },
  {
   "cell_type": "code",
   "execution_count": 13,
   "metadata": {},
   "outputs": [
    {
     "data": {
      "text/html": [
       "<div>\n",
       "<style scoped>\n",
       "    .dataframe tbody tr th:only-of-type {\n",
       "        vertical-align: middle;\n",
       "    }\n",
       "\n",
       "    .dataframe tbody tr th {\n",
       "        vertical-align: top;\n",
       "    }\n",
       "\n",
       "    .dataframe thead th {\n",
       "        text-align: right;\n",
       "    }\n",
       "</style>\n",
       "<table border=\"1\" class=\"dataframe\">\n",
       "  <thead>\n",
       "    <tr style=\"text-align: right;\">\n",
       "      <th></th>\n",
       "      <th>id</th>\n",
       "      <th>job_title</th>\n",
       "      <th>job_company</th>\n",
       "      <th>job_loc</th>\n",
       "      <th>job_salary</th>\n",
       "      <th>job_summary</th>\n",
       "    </tr>\n",
       "  </thead>\n",
       "  <tbody>\n",
       "    <tr>\n",
       "      <td>0</td>\n",
       "      <td>1</td>\n",
       "      <td>Undergraduate Internship/Co-op Program - Intel...</td>\n",
       "      <td>Central Intelligence Agency</td>\n",
       "      <td>Washington, DC</td>\n",
       "      <td>$21.21 - $22.43 an hour</td>\n",
       "      <td>Engineering, science students, or those in oth...</td>\n",
       "    </tr>\n",
       "    <tr>\n",
       "      <td>1</td>\n",
       "      <td>2</td>\n",
       "      <td>DHS Watch Team Intelligence Analyst</td>\n",
       "      <td>Dynamic Planning &amp; Response</td>\n",
       "      <td>Arlington, VA</td>\n",
       "      <td>$80,000 - $84,000 a year</td>\n",
       "      <td>Must have a specific level of security clearan...</td>\n",
       "    </tr>\n",
       "    <tr>\n",
       "      <td>2</td>\n",
       "      <td>3</td>\n",
       "      <td>Associate Intelligence Analyst</td>\n",
       "      <td>Global Tel*Link</td>\n",
       "      <td>Raleigh, NC</td>\n",
       "      <td>None</td>\n",
       "      <td>Assist facility staff with investigations by u...</td>\n",
       "    </tr>\n",
       "    <tr>\n",
       "      <td>3</td>\n",
       "      <td>4</td>\n",
       "      <td>Cybersecurity Analyst (DLP) (60-70k, US Citize...</td>\n",
       "      <td>Maveris</td>\n",
       "      <td>Martinsburg, WV</td>\n",
       "      <td>$60,000 - $70,000 a year</td>\n",
       "      <td>The Analyst can identify risks in security sys...</td>\n",
       "    </tr>\n",
       "    <tr>\n",
       "      <td>4</td>\n",
       "      <td>5</td>\n",
       "      <td>Associate Cyber Intelligence Analyst</td>\n",
       "      <td>LookingGlass Cyber Solutions</td>\n",
       "      <td>Reston, VA 20191</td>\n",
       "      <td>None</td>\n",
       "      <td>Past experience in intelligence, technology, c...</td>\n",
       "    </tr>\n",
       "    <tr>\n",
       "      <td>5</td>\n",
       "      <td>6</td>\n",
       "      <td>Undergraduate Internship Program - Resource An...</td>\n",
       "      <td>Central Intelligence Agency</td>\n",
       "      <td>Washington, DC</td>\n",
       "      <td>$20.75 an hour</td>\n",
       "      <td>Working on teams embedded with mission leaders...</td>\n",
       "    </tr>\n",
       "    <tr>\n",
       "      <td>6</td>\n",
       "      <td>7</td>\n",
       "      <td>Political Analyst</td>\n",
       "      <td>Central Intelligence Agency</td>\n",
       "      <td>Washington, DC</td>\n",
       "      <td>$55,539 - $82,326 a year</td>\n",
       "      <td>The DA helps provide timely, accurate and obje...</td>\n",
       "    </tr>\n",
       "    <tr>\n",
       "      <td>7</td>\n",
       "      <td>8</td>\n",
       "      <td>Intelligence Analyst I - MRS</td>\n",
       "      <td>WorldAware</td>\n",
       "      <td>None</td>\n",
       "      <td>None</td>\n",
       "      <td>Monitors global events through designated tool...</td>\n",
       "    </tr>\n",
       "    <tr>\n",
       "      <td>8</td>\n",
       "      <td>9</td>\n",
       "      <td>Intelligence Analyst</td>\n",
       "      <td>General Dynamics Information Technology</td>\n",
       "      <td>None</td>\n",
       "      <td>None</td>\n",
       "      <td>For more than 50 years, General Dynamics Infor...</td>\n",
       "    </tr>\n",
       "    <tr>\n",
       "      <td>9</td>\n",
       "      <td>10</td>\n",
       "      <td>Intelligence Analyst</td>\n",
       "      <td>BAE Systems</td>\n",
       "      <td>None</td>\n",
       "      <td>None</td>\n",
       "      <td>Having an understanding of physical and techni...</td>\n",
       "    </tr>\n",
       "    <tr>\n",
       "      <td>10</td>\n",
       "      <td>11</td>\n",
       "      <td>Junior Intelligence Analyst</td>\n",
       "      <td>Advanced Resource Technologies Inc</td>\n",
       "      <td>None</td>\n",
       "      <td>None</td>\n",
       "      <td>Provides specialized intelligence and threat a...</td>\n",
       "    </tr>\n",
       "    <tr>\n",
       "      <td>11</td>\n",
       "      <td>12</td>\n",
       "      <td>HIDTA Intelligence Analyst - ISC</td>\n",
       "      <td>George Mason University</td>\n",
       "      <td>None</td>\n",
       "      <td>$55,000 - $65,000 a year</td>\n",
       "      <td>HIIDTA Intelligence Analyst – ISC. The CEBCP c...</td>\n",
       "    </tr>\n",
       "    <tr>\n",
       "      <td>12</td>\n",
       "      <td>13</td>\n",
       "      <td>Intelligence Analyst</td>\n",
       "      <td>IntelliWare Systems</td>\n",
       "      <td>None</td>\n",
       "      <td>None</td>\n",
       "      <td>The analyst will provide terrorist related thr...</td>\n",
       "    </tr>\n",
       "    <tr>\n",
       "      <td>13</td>\n",
       "      <td>14</td>\n",
       "      <td>Assoc Analyst, Intelligence-TS/SCI with Poly R...</td>\n",
       "      <td>General Dynamics Information Technology</td>\n",
       "      <td>None</td>\n",
       "      <td>None</td>\n",
       "      <td>Bachelor_s Degree in a related technical or mi...</td>\n",
       "    </tr>\n",
       "    <tr>\n",
       "      <td>14</td>\n",
       "      <td>15</td>\n",
       "      <td>HIDTA Intelligence Analyst - STING</td>\n",
       "      <td>George Mason University</td>\n",
       "      <td>None</td>\n",
       "      <td>$50,000 - $56,000 a year</td>\n",
       "      <td>The CEBCP carries out this mission by advancin...</td>\n",
       "    </tr>\n",
       "    <tr>\n",
       "      <td>15</td>\n",
       "      <td>16</td>\n",
       "      <td>Regional Intelligence Analyst</td>\n",
       "      <td>NBCUniversal</td>\n",
       "      <td>None</td>\n",
       "      <td>None</td>\n",
       "      <td>Experience in a national security profession w...</td>\n",
       "    </tr>\n",
       "    <tr>\n",
       "      <td>16</td>\n",
       "      <td>17</td>\n",
       "      <td>Intelligence Analyst</td>\n",
       "      <td>Red Five Security, LLC</td>\n",
       "      <td>None</td>\n",
       "      <td>None</td>\n",
       "      <td>Prior investigative writing, technical writing...</td>\n",
       "    </tr>\n",
       "    <tr>\n",
       "      <td>17</td>\n",
       "      <td>18</td>\n",
       "      <td>Brand Intelligence Analyst</td>\n",
       "      <td>LookingGlass Cyber Solutions</td>\n",
       "      <td>Reston, VA 20191</td>\n",
       "      <td>None</td>\n",
       "      <td>The Brand Intelligence Analyst employs our pro...</td>\n",
       "    </tr>\n",
       "    <tr>\n",
       "      <td>18</td>\n",
       "      <td>19</td>\n",
       "      <td>Part-Time Media Intelligence Analyst</td>\n",
       "      <td>Bullpen Strategy Group</td>\n",
       "      <td>Arlington, VA 22201</td>\n",
       "      <td>None</td>\n",
       "      <td>Majors in communications, political science, j...</td>\n",
       "    </tr>\n",
       "  </tbody>\n",
       "</table>\n",
       "</div>"
      ],
      "text/plain": [
       "    id                                          job_title  \\\n",
       "0    1  Undergraduate Internship/Co-op Program - Intel...   \n",
       "1    2                DHS Watch Team Intelligence Analyst   \n",
       "2    3                     Associate Intelligence Analyst   \n",
       "3    4  Cybersecurity Analyst (DLP) (60-70k, US Citize...   \n",
       "4    5               Associate Cyber Intelligence Analyst   \n",
       "5    6  Undergraduate Internship Program - Resource An...   \n",
       "6    7                                  Political Analyst   \n",
       "7    8                       Intelligence Analyst I - MRS   \n",
       "8    9                               Intelligence Analyst   \n",
       "9   10                               Intelligence Analyst   \n",
       "10  11                        Junior Intelligence Analyst   \n",
       "11  12                   HIDTA Intelligence Analyst - ISC   \n",
       "12  13                               Intelligence Analyst   \n",
       "13  14  Assoc Analyst, Intelligence-TS/SCI with Poly R...   \n",
       "14  15                 HIDTA Intelligence Analyst - STING   \n",
       "15  16                      Regional Intelligence Analyst   \n",
       "16  17                               Intelligence Analyst   \n",
       "17  18                         Brand Intelligence Analyst   \n",
       "18  19               Part-Time Media Intelligence Analyst   \n",
       "\n",
       "                                job_company              job_loc  \\\n",
       "0               Central Intelligence Agency       Washington, DC   \n",
       "1               Dynamic Planning & Response        Arlington, VA   \n",
       "2                           Global Tel*Link          Raleigh, NC   \n",
       "3                                   Maveris      Martinsburg, WV   \n",
       "4              LookingGlass Cyber Solutions     Reston, VA 20191   \n",
       "5               Central Intelligence Agency       Washington, DC   \n",
       "6               Central Intelligence Agency       Washington, DC   \n",
       "7                                WorldAware                 None   \n",
       "8   General Dynamics Information Technology                 None   \n",
       "9                               BAE Systems                 None   \n",
       "10       Advanced Resource Technologies Inc                 None   \n",
       "11                  George Mason University                 None   \n",
       "12                      IntelliWare Systems                 None   \n",
       "13  General Dynamics Information Technology                 None   \n",
       "14                  George Mason University                 None   \n",
       "15                             NBCUniversal                 None   \n",
       "16                   Red Five Security, LLC                 None   \n",
       "17             LookingGlass Cyber Solutions     Reston, VA 20191   \n",
       "18                   Bullpen Strategy Group  Arlington, VA 22201   \n",
       "\n",
       "                  job_salary  \\\n",
       "0    $21.21 - $22.43 an hour   \n",
       "1   $80,000 - $84,000 a year   \n",
       "2                       None   \n",
       "3   $60,000 - $70,000 a year   \n",
       "4                       None   \n",
       "5             $20.75 an hour   \n",
       "6   $55,539 - $82,326 a year   \n",
       "7                       None   \n",
       "8                       None   \n",
       "9                       None   \n",
       "10                      None   \n",
       "11  $55,000 - $65,000 a year   \n",
       "12                      None   \n",
       "13                      None   \n",
       "14  $50,000 - $56,000 a year   \n",
       "15                      None   \n",
       "16                      None   \n",
       "17                      None   \n",
       "18                      None   \n",
       "\n",
       "                                          job_summary  \n",
       "0   Engineering, science students, or those in oth...  \n",
       "1   Must have a specific level of security clearan...  \n",
       "2   Assist facility staff with investigations by u...  \n",
       "3   The Analyst can identify risks in security sys...  \n",
       "4   Past experience in intelligence, technology, c...  \n",
       "5   Working on teams embedded with mission leaders...  \n",
       "6   The DA helps provide timely, accurate and obje...  \n",
       "7   Monitors global events through designated tool...  \n",
       "8   For more than 50 years, General Dynamics Infor...  \n",
       "9   Having an understanding of physical and techni...  \n",
       "10  Provides specialized intelligence and threat a...  \n",
       "11  HIIDTA Intelligence Analyst – ISC. The CEBCP c...  \n",
       "12  The analyst will provide terrorist related thr...  \n",
       "13  Bachelor_s Degree in a related technical or mi...  \n",
       "14  The CEBCP carries out this mission by advancin...  \n",
       "15  Experience in a national security profession w...  \n",
       "16  Prior investigative writing, technical writing...  \n",
       "17  The Brand Intelligence Analyst employs our pro...  \n",
       "18  Majors in communications, political science, j...  "
      ]
     },
     "execution_count": 13,
     "metadata": {},
     "output_type": "execute_result"
    }
   ],
   "source": [
    "df = pandas.read_sql_query('select * from indeed_gp21', conn)\n",
    "df[:]"
   ]
  },
  {
   "cell_type": "code",
   "execution_count": 14,
   "metadata": {},
   "outputs": [],
   "source": [
    "cur.close()\n",
    "conn.close()"
   ]
  },
  {
   "cell_type": "code",
   "execution_count": null,
   "metadata": {},
   "outputs": [],
   "source": []
  }
 ],
 "metadata": {
  "kernelspec": {
   "display_name": "Python 3",
   "language": "python",
   "name": "python3"
  },
  "language_info": {
   "codemirror_mode": {
    "name": "ipython",
    "version": 3
   },
   "file_extension": ".py",
   "mimetype": "text/x-python",
   "name": "python",
   "nbconvert_exporter": "python",
   "pygments_lexer": "ipython3",
   "version": "3.7.4"
  }
 },
 "nbformat": 4,
 "nbformat_minor": 2
}
